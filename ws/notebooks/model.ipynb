{
 "cells": [
  {
   "cell_type": "code",
   "execution_count": 1,
   "metadata": {},
   "outputs": [
    {
     "name": "stderr",
     "output_type": "stream",
     "text": [
      "/usr/local/lib/python3.10/dist-packages/torch/cuda/__init__.py:118: UserWarning: CUDA initialization: CUDA unknown error - this may be due to an incorrectly set up environment, e.g. changing env variable CUDA_VISIBLE_DEVICES after program start. Setting the available devices to be zero. (Triggered internally at ../c10/cuda/CUDAFunctions.cpp:108.)\n",
      "  return torch._C._cuda_getDeviceCount() > 0\n"
     ]
    }
   ],
   "source": [
    "import os\n",
    "os.environ['CUDA_LAUNCH_BLOCKING'] = '1'\n",
    "import torch\n",
    "import hydra\n",
    "from omegaconf import OmegaConf\n",
    "from torchrl.data import CompositeSpec, UnboundedContinuousTensorSpec, BoundedTensorSpec, DiscreteTensorSpec\n",
    "\n",
    "\n",
    "def create_observation_spec(device):\n",
    "    return CompositeSpec(\n",
    "        agents=CompositeSpec(\n",
    "            observation=UnboundedContinuousTensorSpec(shape=torch.Size([2, 1, 30]), device=device, dtype=torch.float32),\n",
    "            intrinsics=UnboundedContinuousTensorSpec(shape=torch.Size([2, 1, 24]), device=device, dtype=torch.float32),\n",
    "            shape=torch.Size([2]),\n",
    "            device=device\n",
    "        ),\n",
    "        is_init=DiscreteTensorSpec(shape=torch.Size([2, 1]), n=2, device=device, dtype=torch.bool),\n",
    "        shape=torch.Size([2]),\n",
    "        device=device\n",
    "    )\n",
    "\n",
    "def create_action_spec(device):\n",
    "    return UnboundedContinuousTensorSpec(\n",
    "        shape=torch.Size([2, 1, 4]),\n",
    "        device=device,\n",
    "        dtype=torch.float32\n",
    "    )\n",
    "\n",
    "def create_reward_spec(device):\n",
    "    return UnboundedContinuousTensorSpec(\n",
    "        shape=torch.Size([2, 1, 1]),\n",
    "        device=device,\n",
    "        dtype=torch.float32\n",
    "    )"
   ]
  },
  {
   "cell_type": "code",
   "execution_count": 45,
   "metadata": {},
   "outputs": [
    {
     "name": "stdout",
     "output_type": "stream",
     "text": [
      "dict_keys(['model_state_dict', 'algorithm', 'algorithm_config', 'frames', 'observation_spec', 'action_spec', 'reward_spec'])\n",
      "tensor([[[-0.5389, -0.3602, -0.3442,  0.0682]]], device='cuda:0',\n",
      "       grad_fn=<ViewBackward0>)\n"
     ]
    }
   ],
   "source": [
    "# load .pt model\n",
    "\n",
    "from omegaconf import OmegaConf\n",
    "import torch\n",
    "import torch.nn as nn\n",
    "import torch.optim as optim\n",
    "import torch.nn.functional as F\n",
    "import numpy as np\n",
    "import os\n",
    "import sys\n",
    "from tensordict.tensordict import TensorDict, TensorDictBase\n",
    "from torchrl.data import (\n",
    "    BinaryDiscreteTensorSpec,\n",
    "    CompositeSpec,\n",
    "    UnboundedContinuousTensorSpec,\n",
    "    BoundedTensorSpec,\n",
    ")\n",
    "\n",
    "from ppo.ppo import PPOPolicy\n",
    "\n",
    "class inference():\n",
    "    def __init__(self, model_path):\n",
    "        self.model_path = model_path\n",
    "        self.device = torch.device(\"cuda\" if torch.cuda.is_available() else \"cpu\")\n",
    "        self.model_dict = torch.load(self.model_path, map_location=self.device)\n",
    "        #self.policy = self.create_model()\n",
    "        print(self.model_dict.keys())\n",
    "\n",
    "        self.cfg = self.model_dict['algorithm_config']\n",
    "        self.cfg = OmegaConf.create(self.cfg)\n",
    "        \n",
    "\n",
    "        #print(self.cfg)\n",
    "        # conver to omegaconf\n",
    "\n",
    "\n",
    "        self.observation_spec =  self.model_dict['observation_spec']\n",
    "        self.observation_spec._device = self.device\n",
    "\n",
    "        #print(self.observation_spec)\n",
    "\n",
    "        self.action_spec = self.model_dict['action_spec']\n",
    "        self.action_spec.device = self.device\n",
    "\n",
    "        self.reward_spec = self.model_dict['reward_spec']\n",
    "        self.reward_spec.device = self.device\n",
    "\n",
    "        self.state_dict = self.model_dict['model_state_dict']\n",
    "        #print(self.state_dict.keys())\n",
    "        self.policy = self.create_model()\n",
    "\n",
    "    def create_model(self):\n",
    "        return PPOPolicy(\n",
    "            cfg=self.cfg,\n",
    "            observation_spec=self.observation_spec,\n",
    "            action_spec=self.action_spec,\n",
    "            reward_spec=self.reward_spec,\n",
    "            device=self.device,\n",
    "            state_dict = self.state_dict\n",
    "        )\n",
    "\n",
    "\n",
    "model_path = \"model/full_checkpoint_full_hover_humming.pt\"\n",
    "\n",
    "inf = inference(model_path)\n",
    "\n",
    "#print(inf.policy)\n",
    "\n",
    "# evaluate the model create a random observation\n",
    "obs = TensorDict({'agents': \n",
    "                  {'observation': torch.randn(1, 1, 30).to(inf.device), \n",
    "                   'intrinsics': torch.randn(1, 1, 30).to(inf.device)}, \n",
    "                   'is_init': torch.tensor([[1], [0]]).to(inf.device)})\n",
    "\n",
    "\n",
    "prediction = inf.policy(obs)\n",
    "\n",
    "print(prediction['agents']['action'])\n"
   ]
  },
  {
   "cell_type": "code",
   "execution_count": 11,
   "metadata": {},
   "outputs": [
    {
     "name": "stdout",
     "output_type": "stream",
     "text": [
      "_StringKeys({'agents': TensorDict(\n",
      "    fields={\n",
      "        action: Tensor(shape=torch.Size([1, 1, 4]), device=cuda:0, dtype=torch.float32, is_shared=True),\n",
      "        intrinsics: Tensor(shape=torch.Size([1, 1, 30]), device=cuda:0, dtype=torch.float32, is_shared=True),\n",
      "        observation: Tensor(shape=torch.Size([1, 1, 30]), device=cuda:0, dtype=torch.float32, is_shared=True)},\n",
      "    batch_size=torch.Size([]),\n",
      "    device=None,\n",
      "    is_shared=False), 'is_init': tensor([[1],\n",
      "        [0]], device='cuda:0'), 'sample_log_prob': tensor([[8.5385]], device='cuda:0', grad_fn=<SumBackward1>), 'state_value': tensor([[[-1.6326]]], device='cuda:0', grad_fn=<ViewBackward0>)})\n"
     ]
    }
   ],
   "source": [
    "print(prediction.keys())    "
   ]
  },
  {
   "cell_type": "code",
   "execution_count": 8,
   "metadata": {},
   "outputs": [
    {
     "name": "stdout",
     "output_type": "stream",
     "text": [
      "PPOPolicy(\n",
      "  (critic_loss_fn): HuberLoss()\n",
      "  (gae): GAE()\n",
      "  (actor): ProbabilisticActor(\n",
      "      module=ModuleList(\n",
      "        (0): TensorDictModule(\n",
      "            module=Sequential(\n",
      "              (0): Sequential(\n",
      "                (0): Linear(in_features=30, out_features=256, bias=True)\n",
      "                (1): LeakyReLU(negative_slope=0.01)\n",
      "                (2): LayerNorm((256,), eps=1e-05, elementwise_affine=True)\n",
      "                (3): Linear(in_features=256, out_features=256, bias=True)\n",
      "                (4): LeakyReLU(negative_slope=0.01)\n",
      "                (5): LayerNorm((256,), eps=1e-05, elementwise_affine=True)\n",
      "                (6): Linear(in_features=256, out_features=256, bias=True)\n",
      "                (7): LeakyReLU(negative_slope=0.01)\n",
      "                (8): LayerNorm((256,), eps=1e-05, elementwise_affine=True)\n",
      "              )\n",
      "              (1): Actor(\n",
      "                (actor_mean): Linear(in_features=256, out_features=4, bias=True)\n",
      "              )\n",
      "            ),\n",
      "            device=cuda:0,\n",
      "            in_keys=[('agents', 'observation')],\n",
      "            out_keys=['loc', 'scale'])\n",
      "        (1): SafeProbabilisticModule()\n",
      "      ),\n",
      "      device=cuda:0,\n",
      "      in_keys=[('agents', 'observation')],\n",
      "      out_keys=['loc', 'scale', ('agents', 'action'), 'sample_log_prob'])\n",
      "  (critic): TensorDictModule(\n",
      "      module=Sequential(\n",
      "        (0): Sequential(\n",
      "          (0): Linear(in_features=30, out_features=256, bias=True)\n",
      "          (1): LeakyReLU(negative_slope=0.01)\n",
      "          (2): LayerNorm((256,), eps=1e-05, elementwise_affine=True)\n",
      "          (3): Linear(in_features=256, out_features=256, bias=True)\n",
      "          (4): LeakyReLU(negative_slope=0.01)\n",
      "          (5): LayerNorm((256,), eps=1e-05, elementwise_affine=True)\n",
      "          (6): Linear(in_features=256, out_features=256, bias=True)\n",
      "          (7): LeakyReLU(negative_slope=0.01)\n",
      "          (8): LayerNorm((256,), eps=1e-05, elementwise_affine=True)\n",
      "        )\n",
      "        (1): Linear(in_features=256, out_features=1, bias=True)\n",
      "      ),\n",
      "      device=cuda:0,\n",
      "      in_keys=[('agents', 'observation')],\n",
      "      out_keys=['state_value'])\n",
      "  (value_norm): ValueNorm1()\n",
      ")\n"
     ]
    }
   ],
   "source": [
    "print(inf.policy)"
   ]
  }
 ],
 "metadata": {
  "kernelspec": {
   "display_name": "Python 3",
   "language": "python",
   "name": "python3"
  },
  "language_info": {
   "codemirror_mode": {
    "name": "ipython",
    "version": 3
   },
   "file_extension": ".py",
   "mimetype": "text/x-python",
   "name": "python",
   "nbconvert_exporter": "python",
   "pygments_lexer": "ipython3",
   "version": "3.10.12"
  }
 },
 "nbformat": 4,
 "nbformat_minor": 2
}
