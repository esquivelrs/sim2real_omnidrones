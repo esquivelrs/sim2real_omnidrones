{
 "cells": [
  {
   "cell_type": "code",
   "execution_count": 1,
   "metadata": {},
   "outputs": [
    {
     "name": "stderr",
     "output_type": "stream",
     "text": [
      "/usr/local/lib/python3.10/dist-packages/torch/cuda/__init__.py:118: UserWarning: CUDA initialization: CUDA unknown error - this may be due to an incorrectly set up environment, e.g. changing env variable CUDA_VISIBLE_DEVICES after program start. Setting the available devices to be zero. (Triggered internally at ../c10/cuda/CUDAFunctions.cpp:108.)\n",
      "  return torch._C._cuda_getDeviceCount() > 0\n"
     ]
    }
   ],
   "source": [
    "import os\n",
    "os.environ['CUDA_LAUNCH_BLOCKING'] = '1'\n",
    "import torch\n",
    "import hydra\n",
    "from omegaconf import OmegaConf\n",
    "from torchrl.data import CompositeSpec, UnboundedContinuousTensorSpec, BoundedTensorSpec, DiscreteTensorSpec\n",
    "\n",
    "\n",
    "def create_observation_spec(device):\n",
    "    return CompositeSpec(\n",
    "        agents=CompositeSpec(\n",
    "            observation=UnboundedContinuousTensorSpec(shape=torch.Size([2, 1, 30]), device=device, dtype=torch.float32),\n",
    "            intrinsics=UnboundedContinuousTensorSpec(shape=torch.Size([2, 1, 24]), device=device, dtype=torch.float32),\n",
    "            shape=torch.Size([2]),\n",
    "            device=device\n",
    "        ),\n",
    "        is_init=DiscreteTensorSpec(shape=torch.Size([2, 1]), n=2, device=device, dtype=torch.bool),\n",
    "        shape=torch.Size([2]),\n",
    "        device=device\n",
    "    )\n",
    "\n",
    "def create_action_spec(device):\n",
    "    return UnboundedContinuousTensorSpec(\n",
    "        shape=torch.Size([2, 1, 4]),\n",
    "        device=device,\n",
    "        dtype=torch.float32\n",
    "    )\n",
    "\n",
    "def create_reward_spec(device):\n",
    "    return UnboundedContinuousTensorSpec(\n",
    "        shape=torch.Size([2, 1, 1]),\n",
    "        device=device,\n",
    "        dtype=torch.float32\n",
    "    )"
   ]
  },
  {
   "cell_type": "code",
   "execution_count": 15,
   "metadata": {},
   "outputs": [
    {
     "ename": "TypeError",
     "evalue": "Got unrecognised kwargs ('space',).",
     "output_type": "error",
     "traceback": [
      "\u001b[0;31m---------------------------------------------------------------------------\u001b[0m",
      "\u001b[0;31mTypeError\u001b[0m                                 Traceback (most recent call last)",
      "Cell \u001b[0;32mIn[15], line 31\u001b[0m\n\u001b[1;32m     23\u001b[0m state_dict \u001b[38;5;241m=\u001b[39m torch\u001b[38;5;241m.\u001b[39mload(model_path, map_location\u001b[38;5;241m=\u001b[39mdevice)\n\u001b[1;32m     27\u001b[0m \u001b[38;5;66;03m#state_dict = load_full_model(state_dict_path)\u001b[39;00m\n\u001b[1;32m     28\u001b[0m \n\u001b[1;32m     29\u001b[0m \u001b[38;5;66;03m# create model\u001b[39;00m\n\u001b[1;32m     30\u001b[0m policy \u001b[38;5;241m=\u001b[39m PPOPolicy(\n\u001b[0;32m---> 31\u001b[0m     observation_space\u001b[38;5;241m=\u001b[39m\u001b[43mcreate_observation_spec\u001b[49m\u001b[43m(\u001b[49m\u001b[43mdevice\u001b[49m\u001b[43m)\u001b[49m,\n\u001b[1;32m     32\u001b[0m     action_space\u001b[38;5;241m=\u001b[39mcreate_action_spec(device),\n\u001b[1;32m     33\u001b[0m     device\u001b[38;5;241m=\u001b[39mdevice,\n\u001b[1;32m     34\u001b[0m     \u001b[38;5;241m*\u001b[39m\u001b[38;5;241m*\u001b[39mstate_dict\n\u001b[1;32m     35\u001b[0m )\n",
      "Cell \u001b[0;32mIn[1], line 29\u001b[0m, in \u001b[0;36mcreate_observation_spec\u001b[0;34m(device)\u001b[0m\n\u001b[1;32m      9\u001b[0m \u001b[38;5;28;01mdef\u001b[39;00m \u001b[38;5;21mcreate_observation_spec\u001b[39m(device):\n\u001b[1;32m     10\u001b[0m     \u001b[38;5;28;01mreturn\u001b[39;00m CompositeSpec(\n\u001b[1;32m     11\u001b[0m         agents\u001b[38;5;241m=\u001b[39mCompositeSpec(\n\u001b[1;32m     12\u001b[0m             observation\u001b[38;5;241m=\u001b[39mUnboundedContinuousTensorSpec(shape\u001b[38;5;241m=\u001b[39mtorch\u001b[38;5;241m.\u001b[39mSize([\u001b[38;5;241m2\u001b[39m, \u001b[38;5;241m1\u001b[39m, \u001b[38;5;241m30\u001b[39m]), device\u001b[38;5;241m=\u001b[39mdevice, dtype\u001b[38;5;241m=\u001b[39mtorch\u001b[38;5;241m.\u001b[39mfloat32),\n\u001b[1;32m     13\u001b[0m             intrinsics\u001b[38;5;241m=\u001b[39mUnboundedContinuousTensorSpec(shape\u001b[38;5;241m=\u001b[39mtorch\u001b[38;5;241m.\u001b[39mSize([\u001b[38;5;241m2\u001b[39m, \u001b[38;5;241m1\u001b[39m, \u001b[38;5;241m24\u001b[39m]), device\u001b[38;5;241m=\u001b[39mdevice, dtype\u001b[38;5;241m=\u001b[39mtorch\u001b[38;5;241m.\u001b[39mfloat32),\n\u001b[1;32m     14\u001b[0m             shape\u001b[38;5;241m=\u001b[39mtorch\u001b[38;5;241m.\u001b[39mSize([\u001b[38;5;241m2\u001b[39m]),\n\u001b[1;32m     15\u001b[0m             device\u001b[38;5;241m=\u001b[39mdevice\n\u001b[1;32m     16\u001b[0m         ),\n\u001b[1;32m     17\u001b[0m         stats\u001b[38;5;241m=\u001b[39mCompositeSpec(\n\u001b[1;32m     18\u001b[0m             return_\u001b[38;5;241m=\u001b[39mUnboundedContinuousTensorSpec(shape\u001b[38;5;241m=\u001b[39mtorch\u001b[38;5;241m.\u001b[39mSize([\u001b[38;5;241m2\u001b[39m, \u001b[38;5;241m1\u001b[39m]), device\u001b[38;5;241m=\u001b[39mdevice, dtype\u001b[38;5;241m=\u001b[39mtorch\u001b[38;5;241m.\u001b[39mfloat32),\n\u001b[1;32m     19\u001b[0m             episode_len\u001b[38;5;241m=\u001b[39mUnboundedContinuousTensorSpec(shape\u001b[38;5;241m=\u001b[39mtorch\u001b[38;5;241m.\u001b[39mSize([\u001b[38;5;241m2\u001b[39m, \u001b[38;5;241m1\u001b[39m]), device\u001b[38;5;241m=\u001b[39mdevice, dtype\u001b[38;5;241m=\u001b[39mtorch\u001b[38;5;241m.\u001b[39mfloat32),\n\u001b[1;32m     20\u001b[0m             pos_error\u001b[38;5;241m=\u001b[39mUnboundedContinuousTensorSpec(shape\u001b[38;5;241m=\u001b[39mtorch\u001b[38;5;241m.\u001b[39mSize([\u001b[38;5;241m2\u001b[39m, \u001b[38;5;241m1\u001b[39m]), device\u001b[38;5;241m=\u001b[39mdevice, dtype\u001b[38;5;241m=\u001b[39mtorch\u001b[38;5;241m.\u001b[39mfloat32),\n\u001b[1;32m     21\u001b[0m             heading_alignment\u001b[38;5;241m=\u001b[39mUnboundedContinuousTensorSpec(shape\u001b[38;5;241m=\u001b[39mtorch\u001b[38;5;241m.\u001b[39mSize([\u001b[38;5;241m2\u001b[39m, \u001b[38;5;241m1\u001b[39m]), device\u001b[38;5;241m=\u001b[39mdevice, dtype\u001b[38;5;241m=\u001b[39mtorch\u001b[38;5;241m.\u001b[39mfloat32),\n\u001b[1;32m     22\u001b[0m             uprightness\u001b[38;5;241m=\u001b[39mUnboundedContinuousTensorSpec(shape\u001b[38;5;241m=\u001b[39mtorch\u001b[38;5;241m.\u001b[39mSize([\u001b[38;5;241m2\u001b[39m, \u001b[38;5;241m1\u001b[39m]), device\u001b[38;5;241m=\u001b[39mdevice, dtype\u001b[38;5;241m=\u001b[39mtorch\u001b[38;5;241m.\u001b[39mfloat32),\n\u001b[1;32m     23\u001b[0m             action_smoothness\u001b[38;5;241m=\u001b[39mUnboundedContinuousTensorSpec(shape\u001b[38;5;241m=\u001b[39mtorch\u001b[38;5;241m.\u001b[39mSize([\u001b[38;5;241m2\u001b[39m, \u001b[38;5;241m1\u001b[39m]), device\u001b[38;5;241m=\u001b[39mdevice, dtype\u001b[38;5;241m=\u001b[39mtorch\u001b[38;5;241m.\u001b[39mfloat32),\n\u001b[1;32m     24\u001b[0m             shape\u001b[38;5;241m=\u001b[39mtorch\u001b[38;5;241m.\u001b[39mSize([\u001b[38;5;241m2\u001b[39m]),\n\u001b[1;32m     25\u001b[0m             device\u001b[38;5;241m=\u001b[39mdevice\n\u001b[1;32m     26\u001b[0m         ),\n\u001b[1;32m     27\u001b[0m         info\u001b[38;5;241m=\u001b[39mCompositeSpec(\n\u001b[1;32m     28\u001b[0m             drone_state\u001b[38;5;241m=\u001b[39mUnboundedContinuousTensorSpec(shape\u001b[38;5;241m=\u001b[39mtorch\u001b[38;5;241m.\u001b[39mSize([\u001b[38;5;241m2\u001b[39m, \u001b[38;5;241m1\u001b[39m, \u001b[38;5;241m13\u001b[39m]), device\u001b[38;5;241m=\u001b[39mdevice, dtype\u001b[38;5;241m=\u001b[39mtorch\u001b[38;5;241m.\u001b[39mfloat32),\n\u001b[0;32m---> 29\u001b[0m             prev_action\u001b[38;5;241m=\u001b[39m\u001b[43mBoundedTensorSpec\u001b[49m\u001b[43m(\u001b[49m\n\u001b[1;32m     30\u001b[0m \u001b[43m                \u001b[49m\u001b[43mshape\u001b[49m\u001b[38;5;241;43m=\u001b[39;49m\u001b[43mtorch\u001b[49m\u001b[38;5;241;43m.\u001b[39;49m\u001b[43mSize\u001b[49m\u001b[43m(\u001b[49m\u001b[43m[\u001b[49m\u001b[38;5;241;43m2\u001b[39;49m\u001b[43m,\u001b[49m\u001b[43m \u001b[49m\u001b[38;5;241;43m1\u001b[39;49m\u001b[43m,\u001b[49m\u001b[43m \u001b[49m\u001b[38;5;241;43m4\u001b[39;49m\u001b[43m]\u001b[49m\u001b[43m)\u001b[49m\u001b[43m,\u001b[49m\n\u001b[1;32m     31\u001b[0m \u001b[43m                \u001b[49m\u001b[43mspace\u001b[49m\u001b[38;5;241;43m=\u001b[39;49m\u001b[43mtorch\u001b[49m\u001b[38;5;241;43m.\u001b[39;49m\u001b[43mdistributions\u001b[49m\u001b[38;5;241;43m.\u001b[39;49m\u001b[43mconstraints\u001b[49m\u001b[38;5;241;43m.\u001b[39;49m\u001b[43mreal\u001b[49m\u001b[43m,\u001b[49m\n\u001b[1;32m     32\u001b[0m \u001b[43m                \u001b[49m\u001b[43mdevice\u001b[49m\u001b[38;5;241;43m=\u001b[39;49m\u001b[43mdevice\u001b[49m\u001b[43m,\u001b[49m\n\u001b[1;32m     33\u001b[0m \u001b[43m                \u001b[49m\u001b[43mdtype\u001b[49m\u001b[38;5;241;43m=\u001b[39;49m\u001b[43mtorch\u001b[49m\u001b[38;5;241;43m.\u001b[39;49m\u001b[43mfloat32\u001b[49m\n\u001b[1;32m     34\u001b[0m \u001b[43m            \u001b[49m\u001b[43m)\u001b[49m,\n\u001b[1;32m     35\u001b[0m             shape\u001b[38;5;241m=\u001b[39mtorch\u001b[38;5;241m.\u001b[39mSize([\u001b[38;5;241m2\u001b[39m]),\n\u001b[1;32m     36\u001b[0m             device\u001b[38;5;241m=\u001b[39mdevice\n\u001b[1;32m     37\u001b[0m         ),\n\u001b[1;32m     38\u001b[0m         is_init\u001b[38;5;241m=\u001b[39mDiscreteTensorSpec(shape\u001b[38;5;241m=\u001b[39mtorch\u001b[38;5;241m.\u001b[39mSize([\u001b[38;5;241m2\u001b[39m, \u001b[38;5;241m1\u001b[39m]), n\u001b[38;5;241m=\u001b[39m\u001b[38;5;241m2\u001b[39m, device\u001b[38;5;241m=\u001b[39mdevice, dtype\u001b[38;5;241m=\u001b[39mtorch\u001b[38;5;241m.\u001b[39mbool),\n\u001b[1;32m     39\u001b[0m         shape\u001b[38;5;241m=\u001b[39mtorch\u001b[38;5;241m.\u001b[39mSize([\u001b[38;5;241m2\u001b[39m]),\n\u001b[1;32m     40\u001b[0m         device\u001b[38;5;241m=\u001b[39mdevice\n\u001b[1;32m     41\u001b[0m     )\n",
      "File \u001b[0;32m/home/dep/rl/torchrl/data/tensor_specs.py:1731\u001b[0m, in \u001b[0;36mBoundedTensorSpec.__init__\u001b[0;34m(self, low, high, shape, device, dtype, **kwargs)\u001b[0m\n\u001b[1;32m   1729\u001b[0m domain \u001b[38;5;241m=\u001b[39m kwargs\u001b[38;5;241m.\u001b[39mpop(\u001b[38;5;124m\"\u001b[39m\u001b[38;5;124mdomain\u001b[39m\u001b[38;5;124m\"\u001b[39m, \u001b[38;5;124m\"\u001b[39m\u001b[38;5;124mcontinuous\u001b[39m\u001b[38;5;124m\"\u001b[39m)\n\u001b[1;32m   1730\u001b[0m \u001b[38;5;28;01mif\u001b[39;00m \u001b[38;5;28mlen\u001b[39m(kwargs):\n\u001b[0;32m-> 1731\u001b[0m     \u001b[38;5;28;01mraise\u001b[39;00m \u001b[38;5;167;01mTypeError\u001b[39;00m(\u001b[38;5;124mf\u001b[39m\u001b[38;5;124m\"\u001b[39m\u001b[38;5;124mGot unrecognised kwargs \u001b[39m\u001b[38;5;132;01m{\u001b[39;00m\u001b[38;5;28mtuple\u001b[39m(kwargs\u001b[38;5;241m.\u001b[39mkeys())\u001b[38;5;132;01m}\u001b[39;00m\u001b[38;5;124m.\u001b[39m\u001b[38;5;124m\"\u001b[39m)\n\u001b[1;32m   1733\u001b[0m dtype, device \u001b[38;5;241m=\u001b[39m _default_dtype_and_device(dtype, device)\n\u001b[1;32m   1734\u001b[0m \u001b[38;5;28;01mif\u001b[39;00m dtype \u001b[38;5;129;01mis\u001b[39;00m \u001b[38;5;28;01mNone\u001b[39;00m:\n",
      "\u001b[0;31mTypeError\u001b[0m: Got unrecognised kwargs ('space',)."
     ]
    }
   ],
   "source": [
    "# load .pt model\n",
    "\n",
    "import torch\n",
    "import torch.nn as nn\n",
    "import torch.optim as optim\n",
    "import torch.nn.functional as F\n",
    "import numpy as np\n",
    "import os\n",
    "import sys\n",
    "from tensordict.tensordict import TensorDict, TensorDictBase\n",
    "from torchrl.data import (\n",
    "    BinaryDiscreteTensorSpec,\n",
    "    CompositeSpec,\n",
    "    UnboundedContinuousTensorSpec,\n",
    "    BoundedTensorSpec,\n",
    ")\n",
    "\n",
    "from ppo.ppo import PPOPolicy\n",
    "\n",
    "model_path = \"model/checkpoint_hoverRand_cf.pt\"\n",
    "\n",
    "device = torch.device(\"cuda\" if torch.cuda.is_available() else \"cpu\")\n",
    "state_dict = torch.load(model_path, map_location=device)\n",
    "\n",
    "\n",
    "\n",
    "#state_dict = load_full_model(state_dict_path)\n",
    "\n",
    "# create model\n",
    "policy = PPOPolicy(\n",
    "    observation_space=create_observation_spec(device),\n",
    "    action_space=create_action_spec(device),\n",
    "    device=device,\n",
    "    **state_dict\n",
    ")"
   ]
  },
  {
   "cell_type": "code",
   "execution_count": 14,
   "metadata": {},
   "outputs": [],
   "source": [
    "from ppo.ppo import PPOPolicy"
   ]
  }
 ],
 "metadata": {
  "kernelspec": {
   "display_name": "Python 3",
   "language": "python",
   "name": "python3"
  },
  "language_info": {
   "codemirror_mode": {
    "name": "ipython",
    "version": 3
   },
   "file_extension": ".py",
   "mimetype": "text/x-python",
   "name": "python",
   "nbconvert_exporter": "python",
   "pygments_lexer": "ipython3",
   "version": "3.10.12"
  }
 },
 "nbformat": 4,
 "nbformat_minor": 2
}
